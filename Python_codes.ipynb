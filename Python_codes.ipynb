{
  "cells": [
    {
      "cell_type": "markdown",
      "metadata": {
        "id": "view-in-github",
        "colab_type": "text"
      },
      "source": [
        "<a href=\"https://colab.research.google.com/github/KajalPardeshi/Feature-Engineering/blob/main/Python_codes.ipynb\" target=\"_parent\"><img src=\"https://colab.research.google.com/assets/colab-badge.svg\" alt=\"Open In Colab\"/></a>"
      ]
    },
    {
      "cell_type": "code",
      "source": [
        "# max element\n",
        "def max_element(lst):\n",
        "  max = lst[0]\n",
        "  for n in lst:\n",
        "    if n > max:\n",
        "      max = n\n",
        "  return max"
      ],
      "metadata": {
        "id": "IyCPThGRohH7"
      },
      "execution_count": 3,
      "outputs": []
    },
    {
      "cell_type": "code",
      "source": [
        "max_element([1,2,3,54,6,12,87,2,9,34])"
      ],
      "metadata": {
        "id": "Me05zRw7o1Pa",
        "outputId": "bd48cd33-7e5c-45f8-cf9c-440c8f77f4d7",
        "colab": {
          "base_uri": "https://localhost:8080/"
        }
      },
      "execution_count": 2,
      "outputs": [
        {
          "output_type": "execute_result",
          "data": {
            "text/plain": [
              "87"
            ]
          },
          "metadata": {},
          "execution_count": 2
        }
      ]
    },
    {
      "cell_type": "code",
      "source": [
        "# find duplicate elements\n",
        "\n",
        "def find_duplicates(lst):\n",
        "  unique = set()\n",
        "  dup_lst = set()\n",
        "  for n in lst:\n",
        "    if n in unique:\n",
        "      dup_lst.add(n)\n",
        "    else:\n",
        "      unique.add(n)\n",
        "  return list(dup_lst)"
      ],
      "metadata": {
        "id": "n8nPCBI9o5I7"
      },
      "execution_count": 17,
      "outputs": []
    },
    {
      "cell_type": "code",
      "source": [
        "find_duplicates([23,45,1,3,1,67,43,45,23])"
      ],
      "metadata": {
        "id": "Zr_9Odfbp2kv",
        "outputId": "c648d336-86bd-41fb-d76d-ee3ef2b218dc",
        "colab": {
          "base_uri": "https://localhost:8080/"
        }
      },
      "execution_count": 18,
      "outputs": [
        {
          "output_type": "execute_result",
          "data": {
            "text/plain": [
              "[1, 45, 23]"
            ]
          },
          "metadata": {},
          "execution_count": 18
        }
      ]
    },
    {
      "cell_type": "code",
      "source": [
        "def find_duplicates(arr):\n",
        "  unique = set()\n",
        "  dup = set()\n",
        "  for n in arr:\n",
        "    if n in unique:\n",
        "      dup.add(n)\n",
        "    else:\n",
        "      unique.add(n)\n",
        "  return list(dup)"
      ],
      "metadata": {
        "id": "0OtpuovoqNOk"
      },
      "execution_count": 23,
      "outputs": []
    },
    {
      "cell_type": "code",
      "source": [
        "find_duplicates([1,2,3,4,1,2,3,4,5,3,21,23,21])"
      ],
      "metadata": {
        "id": "KFditIFurbLk",
        "outputId": "1bdd30ad-a149-455b-a2ef-bbb0078e9e2e",
        "colab": {
          "base_uri": "https://localhost:8080/"
        }
      },
      "execution_count": 24,
      "outputs": [
        {
          "output_type": "execute_result",
          "data": {
            "text/plain": [
              "[1, 2, 3, 4, 21]"
            ]
          },
          "metadata": {},
          "execution_count": 24
        }
      ]
    },
    {
      "cell_type": "code",
      "source": [
        "def second_large(lst):\n",
        "  # sorting in descending order\n",
        "  for i in range(len(lst)):\n",
        "    for j in range(i+1, len(lst)):\n",
        "      if lst[i] < lst[j]:\n",
        "        lst[i], lst[j] = lst[j], lst[i]\n",
        "\n",
        "  # finding second large element by eliminating duplicates\n",
        "  max = lst[0]\n",
        "  for i in lst:\n",
        "    if i < max:\n",
        "      return i"
      ],
      "metadata": {
        "id": "9Vv6NMDBrgi0"
      },
      "execution_count": 41,
      "outputs": []
    },
    {
      "cell_type": "code",
      "source": [
        "second_large([65,23,100,23,45,56,45,65,100])"
      ],
      "metadata": {
        "id": "mANPhL0_viE5",
        "outputId": "ac5fc3ab-fb5f-4600-f7fd-10d282cc9358",
        "colab": {
          "base_uri": "https://localhost:8080/"
        }
      },
      "execution_count": 42,
      "outputs": [
        {
          "output_type": "execute_result",
          "data": {
            "text/plain": [
              "65"
            ]
          },
          "metadata": {},
          "execution_count": 42
        }
      ]
    },
    {
      "cell_type": "code",
      "source": [],
      "metadata": {
        "id": "afe7BTTPvne1"
      },
      "execution_count": 38,
      "outputs": []
    },
    {
      "cell_type": "markdown",
      "source": [
        "# New Section"
      ],
      "metadata": {
        "id": "abu0_tE02y5s"
      }
    }
  ],
  "metadata": {
    "colab": {
      "name": "Welcome To Colab",
      "toc_visible": true,
      "provenance": [],
      "include_colab_link": true
    },
    "kernelspec": {
      "display_name": "Python 3",
      "name": "python3"
    }
  },
  "nbformat": 4,
  "nbformat_minor": 0
}